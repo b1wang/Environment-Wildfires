{
 "cells": [
  {
   "cell_type": "markdown",
   "metadata": {},
   "source": [
    "# COGS 108 - Final Project Proposal"
   ]
  },
  {
   "cell_type": "markdown",
   "metadata": {},
   "source": [
    "# Names\n",
    "\n",
    "- Kairi Sageshima\n",
    "- Brandon Wang\n",
    "- Marisol Jimenez\n",
    "- Ashley Chu\n",
    "- Daniel Milton"
   ]
  },
  {
   "cell_type": "markdown",
   "metadata": {},
   "source": [
    "# Research Question"
   ]
  },
  {
   "cell_type": "markdown",
   "metadata": {},
   "source": [
    "Which factor is most influential in predicting the likelihood of a forest fire in California (humidity, amount of combustible materials like wood, rain, temperature, month, etc.)? Can we use such a variable to predict and serve as an early warning system for wildfires in California?"
   ]
  },
  {
   "cell_type": "markdown",
   "metadata": {},
   "source": [
    "## Background and Prior Work"
   ]
  },
  {
   "cell_type": "markdown",
   "metadata": {},
   "source": [
    "An increase in wildfires in California have been an issue in recent years, and geologists have pointed to a number of factors that have been attributed to this increase. Factors such as drought season, combustible material, ambient environmental variables such as temperature, humidity, and vapor pressure deficit, grass coverage, weather patterns, and distance to roads have been some factors identified. To concentrate on easily quantifiable data, we decided to use temperature and humidity levels of the area to serve as predictors of wildfires, as other factors will require extensive coding and wrangling to make into quantitative variables. Hopefully, we will be able to build a model that can reliably predict areas of high wildfire probability to serve as an early warning system.\n",
    "\n",
    "**References (include links):**\n",
    "\n",
    "**Source 1:** https://earthobservatory.nasa.gov/images/148908/whats-behind-californias-surge-of-large-fires\n",
    "1) The number of wildfires in California has been proliferating in recent years. “Eight of the state’s ten largest fires on record—and twelve of the top twenty—have happened within the past five years.” Jon Keeley, a U.S. Geological Survey scientist, claims that many factors may be responsible for this increase. The primary reasons seem to be a particularly harsh drought season and rising temperatures due to global warming. Decades of fire suppression have also allowed highly combustible material to pile up and create hotspots for forest fires.\n",
    "\n",
    "**Source 2:** https://www.nature.com/articles/s41598-021-88131-9\n",
    "2)  As seen on the news, wildfires have become more and more of a common occurrence, especially in California. “The wildfire season has lengthened and the peak months have been advanced from August to July. In terms of the variables related to the risk of wildfire occurrence, the temperature, vapor pressure deficit, grass cover, and the distance to roads are crucial.” These are some additional variables that previous projects have been aware of in the past. The increase of temperature does have a direct correlation with occurrence of wildfires, but there are also many other factors in the mix.\n",
    "\n",
    "**Source 3:** https://www.predictiveservices.nifc.gov/outlooks/monthly_seasonal_outlook.pdf\n",
    "3) Common predictors of wildfires in Northern California as researched and identified by the National Interagency Fire Center are: drought conditions (below average levels of precipitation, above average temperatures), live and dead fuel moisture contents, and enhanced windy periods. These weather patterns are influenced by sea temperatures, El Niño and the time of year.\n",
    "- Live fuel moisture content refers to the amount of moisture in living plants/vegetation that could be consumed as fuel in a forest fire.\n",
    "- In Southern California, upper level high pressure over the Desert Southwest causes higher than average temperatures during the late summer/early fall months. Thunderstorms also start fires (such as the Windy and KNP Complex Fires in southern central California).\n",
    "- Upper level highs occur where there is especially high pressure in the upper atmosphere of a particular region, causing “comparatively warm dry air with light winds over a large area” — National Wildfire Coordinating Group. Upper level highs are caused by above normal sea surface temperatures.\n",
    "\n",
    "Other similar projects on predicting wildfires focused on weather events as well, but also location, such as this one: Wildfires in California Prediction. In this project, they learned how to create a model that could essentially predict that 2019 was not a “bad” year for wildfires.\n",
    "\n",
    "If we can, we will try to account for location using humidity, and the amount of live and dead moisture content (availability of combustible fuel), as they would point to locations such as forests where fires commonly happen."
   ]
  },
  {
   "cell_type": "markdown",
   "metadata": {},
   "source": [
    "# Hypothesis\n"
   ]
  },
  {
   "cell_type": "markdown",
   "metadata": {},
   "source": [
    "We predict that an increase in temperature and a decrease in humidity will lead to higher chance of fires, and a decrease in temperatures or an increase in humidity will predict a lower chance of fires because fires occur in hot, dry conditions."
   ]
  },
  {
   "cell_type": "markdown",
   "metadata": {},
   "source": [
    "# Data"
   ]
  },
  {
   "cell_type": "markdown",
   "metadata": {},
   "source": [
    "The variables needed for this analysis are: Count and location of fires in california. Average temperature of region during the time period of the fire, Humidity or lack thereof at location of fire during the same time period. The amount of combustible materials at the fire location. \n",
    "\n",
    "This data of fire frequency, location and date has been collected by the California fire department . As for the climate data it can be accessed through https://climatetoolbox.org/ and https://www.usclimatedata.com/  which provides records of temperature, vegetation, water and drought data for any region within the US. These data frames would have to be imported, cleaned and combined to make the ideal data set to answer the research question. \n",
    " \n",
    "We will collect data by collecting the temperature and humidity data from each record of a fire in California in the last year. We can go further back in years if needed to expand our statistical validity with more observations, but for now to limit the scope of the data collected we will focus on the year of 2021. \n",
    "\n",
    "Data will be stored as a CSV, with columns for timestamp, location, temperature, humidity, drought, and vegetation presence. Data wrangling will ensure that the temperature and humidity variables are stored as floats in decimal notation, while location will be used as a categorical variable. Timestamps will he converted into an appropriate time object (or coded integer) for parsing, and drought and vegetation will be stored as coded indexes for meaningful comparisons."
   ]
  },
  {
   "cell_type": "markdown",
   "metadata": {},
   "source": [
    "# Ethics & Privacy"
   ]
  },
  {
   "cell_type": "markdown",
   "metadata": {},
   "source": [
    "Some biases that may arise in this project is the multitude of covariant factors affecting the probability of wildfires in California. While temperature is surely one of the leading proponents of wildfires in California, there are a multitude of other factors such as people starting fires, fire suppression creating a buildup of flammable materials, the Santa Ana winds, lightning and much more. Furthermore, these factors often occur with and affect one another, which is important to note as we find the factor that correlates most closely with wildfire occurrence. That’s why we will look at multiple factors and try to see if there is covariance.\n",
    "\n",
    "Privacy concerns won’t be a huge problem regarding the study of wildfires in California. The only area where privacy will be an issue is the cases of wildfires that were started by people. In these instances, we can make sure to keep their personal information from our study and not leave any type of subtle information regarding their identity. "
   ]
  },
  {
   "cell_type": "markdown",
   "metadata": {},
   "source": [
    "# Team Expectations "
   ]
  },
  {
   "cell_type": "markdown",
   "metadata": {},
   "source": [
    "* *Team Expectation 1: Each member should contribute their fair share and fulfill their designated responsibilities.*\n",
    "* *Team Expectation 2: Team members should seek to create a respectful and inclusive environment for their peers.*\n",
    "* *Team Expectation 3: Team members are expected to be punctual and consistent with communication. If a member experiences an emergency that affects the plans of the group, they should notify the team as soon as possible.*\n"
   ]
  },
  {
   "cell_type": "markdown",
   "metadata": {},
   "source": [
    "# Project Timeline Proposal"
   ]
  },
  {
   "cell_type": "markdown",
   "metadata": {},
   "source": [
    "| Meeting Date  | Meeting Time| Completed Before Meeting  | Discuss at Meeting |\n",
    "|---|---|---|---|\n",
    "| 10/22  |  1 PM | Read & Think about COGS 108 expectations; brainstorm topics/questions  | Determine best form of communication; Discuss and decide on final project topic; discuss hypothesis; begin background research | \n",
    "| 10/25  |  10 AM |  Do background research on topic | Discuss ideal dataset(s) and ethics; draft project proposal | \n",
    "| 11/1  | 10 AM  | Edit, finalize, and submit proposal; Search for datasets  | Discuss Wrangling and possible analytical approaches; Assign group members to lead each specific part   |\n",
    "| 11/8  | 6 PM  | Import & Wrangle Data (Ant Man); EDA (Hulk) | Review/Edit wrangling/EDA; Discuss Analysis Plan   |\n",
    "| 11/15  | 12 PM  | Finalize wrangling/EDA; Begin Analysis (Iron Man; Thor) | Discuss/edit Analysis; Complete project check-in |\n",
    "| 11/22  | 12 PM  | Complete analysis; Draft results/conclusion/discussion (Wasp)| Discuss/edit full project |\n",
    "| 11/29  | Before 11:59 PM  | NA | Turn in Final Project & Group Project Surveys |"
   ]
  },
  {
   "cell_type": "code",
   "execution_count": null,
   "metadata": {},
   "outputs": [],
   "source": []
  }
 ],
 "metadata": {
  "kernelspec": {
   "display_name": "Python 3",
   "language": "python",
   "name": "python3"
  },
  "language_info": {
   "codemirror_mode": {
    "name": "ipython",
    "version": 3
   },
   "file_extension": ".py",
   "mimetype": "text/x-python",
   "name": "python",
   "nbconvert_exporter": "python",
   "pygments_lexer": "ipython3",
   "version": "3.8.8"
  }
 },
 "nbformat": 4,
 "nbformat_minor": 2
}
